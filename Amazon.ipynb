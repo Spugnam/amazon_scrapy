{
 "cells": [
  {
   "cell_type": "code",
   "execution_count": 13,
   "metadata": {},
   "outputs": [],
   "source": [
    "from bs4 import BeautifulSoup\n",
    "import requests\n",
    "\n",
    "HEADERS = {'accept': 'text/html,application/xhtml+xml,application/xml;q=0.9,image/webp,*/*;q=0.8',\n",
    "           'accept-encoding': 'gzip, deflate, sdch',\n",
    "           'accept-language': 'en-US,en;q=0.8',\n",
    "           'upgrade-insecure-requests': '1',\n",
    "           'User-Agent': 'Mozilla/5.0 (Windows; U; Windows NT 5.1; de; rv:1.9.2.3) Gecko/20100401 Firefox/3.6.3'}\n",
    "\n",
    "\n",
    "#response = requests.get('https://www.linkedin.com/company/1033/', headers=HEADERS).text\n",
    "#soup = BeautifulSoup(response, 'html.parser')"
   ]
  },
  {
   "cell_type": "code",
   "execution_count": 14,
   "metadata": {
    "scrolled": true
   },
   "outputs": [
    {
     "data": {
      "text/plain": [
       "<Response [999]>"
      ]
     },
     "execution_count": 14,
     "metadata": {},
     "output_type": "execute_result"
    }
   ],
   "source": [
    "requests.get('https://www.linkedin.com/company/1033/', headers=HEADERS)"
   ]
  },
  {
   "cell_type": "code",
   "execution_count": 2,
   "metadata": {},
   "outputs": [
    {
     "ename": "AttributeError",
     "evalue": "'NoneType' object has no attribute 'text'",
     "output_type": "error",
     "traceback": [
      "\u001b[0;31m---------------------------------------------------------------------------\u001b[0m",
      "\u001b[0;31mAttributeError\u001b[0m                            Traceback (most recent call last)",
      "\u001b[0;32m<ipython-input-2-2fa116cb4be9>\u001b[0m in \u001b[0;36m<module>\u001b[0;34m()\u001b[0m\n\u001b[1;32m      1\u001b[0m \u001b[0;32mimport\u001b[0m \u001b[0mre\u001b[0m\u001b[0;34m\u001b[0m\u001b[0m\n\u001b[0;32m----> 2\u001b[0;31m \u001b[0mnum_employees\u001b[0m \u001b[0;34m=\u001b[0m \u001b[0msoup\u001b[0m\u001b[0;34m.\u001b[0m\u001b[0mfind\u001b[0m\u001b[0;34m(\u001b[0m\u001b[0;34m'span'\u001b[0m\u001b[0;34m,\u001b[0m \u001b[0mattrs\u001b[0m\u001b[0;34m=\u001b[0m\u001b[0;34m{\u001b[0m\u001b[0;34m'data-control-name'\u001b[0m\u001b[0;34m:\u001b[0m \u001b[0;34m'topcard_see_all_employees'\u001b[0m\u001b[0;34m}\u001b[0m\u001b[0;34m)\u001b[0m\u001b[0;34m.\u001b[0m\u001b[0mtext\u001b[0m\u001b[0;34m\u001b[0m\u001b[0m\n\u001b[0m\u001b[1;32m      3\u001b[0m \u001b[0mnum_employees\u001b[0m\u001b[0;34m\u001b[0m\u001b[0m\n\u001b[1;32m      4\u001b[0m \u001b[0mnum_employees\u001b[0m \u001b[0;34m=\u001b[0m \u001b[0mint\u001b[0m\u001b[0;34m(\u001b[0m\u001b[0mre\u001b[0m\u001b[0;34m.\u001b[0m\u001b[0msearch\u001b[0m\u001b[0;34m(\u001b[0m\u001b[0;34m'\\d+'\u001b[0m\u001b[0;34m,\u001b[0m \u001b[0mnum_reviews\u001b[0m\u001b[0;34m)\u001b[0m\u001b[0;34m.\u001b[0m\u001b[0mgroup\u001b[0m\u001b[0;34m(\u001b[0m\u001b[0;34m)\u001b[0m\u001b[0;34m)\u001b[0m\u001b[0;34m\u001b[0m\u001b[0m\n\u001b[1;32m      5\u001b[0m \u001b[0mnum_employees\u001b[0m\u001b[0;34m\u001b[0m\u001b[0m\n",
      "\u001b[0;31mAttributeError\u001b[0m: 'NoneType' object has no attribute 'text'"
     ]
    }
   ],
   "source": [
    "import re\n",
    "num_employees = soup.find('span', attrs={'data-control-name': 'topcard_see_all_employees'}).text\n",
    "num_employees\n",
    "num_employees = int(re.search('\\d+', num_reviews).group())\n",
    "num_employees\n"
   ]
  },
  {
   "cell_type": "code",
   "execution_count": null,
   "metadata": {},
   "outputs": [],
   "source": [
    "https://www.amazon.com/product-reviews/B0723599RQ/ref=cm_cr_getr_d_paging_btm_prev_2?ie=UTF8&showViewpoints=1&pageNumber=2\n"
   ]
  },
  {
   "cell_type": "code",
   "execution_count": 15,
   "metadata": {},
   "outputs": [],
   "source": [
    "from bs4 import BeautifulSoup\n",
    "import requests\n",
    "\n",
    "HEADERS = {'accept': 'text/html,application/xhtml+xml,application/xml;q=0.9,image/webp,*/*;q=0.8',\n",
    "           'accept-encoding': 'gzip, deflate, sdch',\n",
    "           'accept-language': 'en-US,en;q=0.8',\n",
    "           'upgrade-insecure-requests': '1',\n",
    "           'User-Agent': 'Mozilla/5.0 (Windows; U; Windows NT 5.1; de; rv:1.9.2.3) Gecko/20100401 Firefox/3.6.3'}"
   ]
  },
  {
   "cell_type": "code",
   "execution_count": 17,
   "metadata": {},
   "outputs": [
    {
     "data": {
      "text/plain": [
       "<Response [200]>"
      ]
     },
     "execution_count": 17,
     "metadata": {},
     "output_type": "execute_result"
    }
   ],
   "source": [
    "requests.get('https://www.amazon.com/product-reviews/B0723599RQ/ref=cm_cr_getr_d_paging_btm_prev_2?ie=UTF8&showViewpoints=1&pageNumber=2', headers=HEADERS)"
   ]
  },
  {
   "cell_type": "code",
   "execution_count": 30,
   "metadata": {},
   "outputs": [],
   "source": [
    "response = requests.get('https://www.amazon.com/product-reviews/B0723599RQ/ref=cm_cr_getr_d_paging_btm_prev_2?ie=UTF8&showViewpoints=1&pageNumber=2', headers=HEADERS).text\n",
    "soup = BeautifulSoup(response, 'html.parser')"
   ]
  },
  {
   "cell_type": "code",
   "execution_count": 31,
   "metadata": {},
   "outputs": [
    {
     "data": {
      "text/plain": [
       "156"
      ]
     },
     "execution_count": 31,
     "metadata": {},
     "output_type": "execute_result"
    },
    {
     "data": {
      "text/plain": [
       "'4.2 out of 5 stars'"
      ]
     },
     "execution_count": 31,
     "metadata": {},
     "output_type": "execute_result"
    }
   ],
   "source": [
    "import re\n",
    "num_reviews = soup.find('span', attrs={'data-hook': 'total-review-count'}).text\n",
    "num_reviews = int(re.search('\\d+', num_reviews).group())\n",
    "num_reviews\n",
    "stars = soup.find('span', attrs={'data-hook': 'rating-out-of-text'}).text\n",
    "stars\n",
    "\n"
   ]
  },
  {
   "cell_type": "code",
   "execution_count": 43,
   "metadata": {},
   "outputs": [
    {
     "data": {
      "text/plain": [
       "'1,074'"
      ]
     },
     "execution_count": 43,
     "metadata": {},
     "output_type": "execute_result"
    },
    {
     "data": {
      "text/plain": [
       "'4.5 out of 5 stars'"
      ]
     },
     "execution_count": 43,
     "metadata": {},
     "output_type": "execute_result"
    }
   ],
   "source": [
    "# with cleaner address\n",
    "url_B01A1E6BA2 = \"https://www.amazon.com/product-reviews/B01A1E6BA2\"\n",
    "    \n",
    "response = requests.get(url_B01A1E6BA2, headers=HEADERS).text\n",
    "soup = BeautifulSoup(response, 'html.parser')\n",
    "\n",
    "num_reviews = soup.find('span', attrs={'data-hook': 'total-review-count'}).text\n",
    "#num_reviews = int(re.search('\\d+', num_reviews).group()) # doesn't work with comma\n",
    "num_reviews\n",
    "stars = soup.find('span', attrs={'data-hook': 'rating-out-of-text'}).text\n",
    "stars\n"
   ]
  },
  {
   "cell_type": "code",
   "execution_count": 47,
   "metadata": {},
   "outputs": [],
   "source": [
    "def scrape_product_reviews(string):\n",
    "    url=\"https://www.amazon.com/product-reviews/\"+string\n",
    "    response = requests.get(url, headers=HEADERS).text\n",
    "    soup = BeautifulSoup(response, 'html.parser')\n",
    "    num_reviews = soup.find('span', attrs={'data-hook': 'total-review-count'}).text\n",
    "    num_reviews = int(num_reviews.replace(',','')) # doesn't work with comma\n",
    "    stars = soup.find('span', attrs={'data-hook': 'rating-out-of-text'}).text\n",
    "    return(num_reviews, stars)"
   ]
  },
  {
   "cell_type": "code",
   "execution_count": 48,
   "metadata": {},
   "outputs": [
    {
     "data": {
      "text/plain": [
       "(693, '4.4 out of 5 stars')"
      ]
     },
     "execution_count": 48,
     "metadata": {},
     "output_type": "execute_result"
    }
   ],
   "source": [
    "scrape_product_reviews(\"B0038JDAJ8\")"
   ]
  },
  {
   "cell_type": "code",
   "execution_count": 24,
   "metadata": {},
   "outputs": [],
   "source": [
    "# to gather all reviews (text)\n",
    "\n",
    "url_list = []\n",
    "for i in range(0, 17):\n",
    "    url_list.append('https://www.amazon.com/product-reviews/B0723599RQ/ref=cm_cr_getr_d_paging_btm_prev_'+str(i)+'?ie=UTF8&showViewpoints=1&pageNumber='+str(i))\n",
    "#print(url_list)"
   ]
  },
  {
   "cell_type": "markdown",
   "metadata": {},
   "source": [
    "B01A1E6BA2 # amazon product IDs  \n",
    "B06XH46MWW"
   ]
  },
  {
   "cell_type": "code",
   "execution_count": null,
   "metadata": {},
   "outputs": [],
   "source": [
    "# get stars from product list\n",
    "https://www.amazon.com/s/ref=sr_ex_n_1?rh=n%3A172282%2Cn%3A541966%2Cn%3A172504%2Ck%3Acable+modems&bbn=172504&keywords=cable+modems&ie=UTF8&qid=1507857406\n",
    "https://www.amazon.com/s/ref=sr_pg_2?rh=n%3A172282%2Cn%3A541966%2Cn%3A172504%2Ck%3Acable+modems&page=2&bbn=172504&keywords=cable+modems&ie=UTF8&qid=1507857412\n",
    "https://www.amazon.com/s/ref=sr_pg_3?rh=n%3A172282%2Cn%3A541966%2Cn%3A172504%2Ck%3Acable+modems&page=3&bbn=172504&keywords=cable+modems&ie=UTF8&qid=1507859962"
   ]
  },
  {
   "cell_type": "code",
   "execution_count": 37,
   "metadata": {},
   "outputs": [
    {
     "data": {
      "text/plain": [
       "'1,074'"
      ]
     },
     "execution_count": 37,
     "metadata": {},
     "output_type": "execute_result"
    }
   ],
   "source": [
    "response = requests.get('https://www.amazon.com/s/ref=sr_pg_3?rh=n%3A172282%2Cn%3A541966%2Cn%3A172504%2Ck%3Acable+modems&page=3&bbn=172504&keywords=cable+modems&ie=UTF8&qid=1507859962', headers=HEADERS).text\n",
    "soup = BeautifulSoup(response, 'html.parser')\n",
    "\n",
    "product_reviews = soup.find('a', attrs={'class': 'a-size-small a-link-normal a-text-normal'}).text \n",
    "product_reviews\n",
    "\n"
   ]
  },
  {
   "cell_type": "code",
   "execution_count": null,
   "metadata": {},
   "outputs": [],
   "source": [
    "num_reviews = int(re.search('\\d+', num_reviews).group())\n",
    "num_reviews"
   ]
  },
  {
   "cell_type": "markdown",
   "metadata": {},
   "source": [
    "Also check: https://www.scrapehero.com/tutorial-how-to-scrape-amazon-product-details-using-python/"
   ]
  },
  {
   "cell_type": "code",
   "execution_count": null,
   "metadata": {},
   "outputs": [],
   "source": []
  },
  {
   "cell_type": "code",
   "execution_count": null,
   "metadata": {},
   "outputs": [],
   "source": []
  },
  {
   "cell_type": "code",
   "execution_count": null,
   "metadata": {},
   "outputs": [],
   "source": []
  },
  {
   "cell_type": "code",
   "execution_count": null,
   "metadata": {},
   "outputs": [],
   "source": []
  },
  {
   "cell_type": "code",
   "execution_count": null,
   "metadata": {},
   "outputs": [],
   "source": []
  },
  {
   "cell_type": "code",
   "execution_count": null,
   "metadata": {},
   "outputs": [],
   "source": []
  },
  {
   "cell_type": "code",
   "execution_count": null,
   "metadata": {},
   "outputs": [],
   "source": []
  },
  {
   "cell_type": "code",
   "execution_count": null,
   "metadata": {},
   "outputs": [],
   "source": []
  },
  {
   "cell_type": "code",
   "execution_count": null,
   "metadata": {},
   "outputs": [],
   "source": []
  },
  {
   "cell_type": "code",
   "execution_count": null,
   "metadata": {},
   "outputs": [],
   "source": []
  },
  {
   "cell_type": "code",
   "execution_count": null,
   "metadata": {},
   "outputs": [],
   "source": []
  },
  {
   "cell_type": "code",
   "execution_count": null,
   "metadata": {},
   "outputs": [],
   "source": []
  },
  {
   "cell_type": "code",
   "execution_count": null,
   "metadata": {},
   "outputs": [],
   "source": []
  },
  {
   "cell_type": "code",
   "execution_count": null,
   "metadata": {},
   "outputs": [],
   "source": []
  },
  {
   "cell_type": "code",
   "execution_count": null,
   "metadata": {},
   "outputs": [],
   "source": []
  }
 ],
 "metadata": {
  "kernelspec": {
   "display_name": "Python 3",
   "language": "python",
   "name": "python3"
  },
  "language_info": {
   "codemirror_mode": {
    "name": "ipython",
    "version": 3
   },
   "file_extension": ".py",
   "mimetype": "text/x-python",
   "name": "python",
   "nbconvert_exporter": "python",
   "pygments_lexer": "ipython3",
   "version": "3.6.1"
  }
 },
 "nbformat": 4,
 "nbformat_minor": 2
}
